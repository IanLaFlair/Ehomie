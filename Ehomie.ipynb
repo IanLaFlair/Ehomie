{
  "cells": [
    {
      "cell_type": "code",
      "source": [
        "#import library numpy dan pandas\n",
        "import numpy as np\n",
        "import pandas as pd\n",
        "\n",
        "import seaborn as sns\n",
        "\n",
        "#membaca file csv\n",
        "df=pd.read_csv('MariBisnis.csv')\n",
        "df"
      ],
      "outputs": [
        {
          "output_type": "execute_result",
          "execution_count": 5,
          "data": {
            "text/html": "<div>\n<style scoped>\n    .dataframe tbody tr th:only-of-type {\n        vertical-align: middle;\n    }\n\n    .dataframe tbody tr th {\n        vertical-align: top;\n    }\n\n    .dataframe thead th {\n        text-align: right;\n    }\n</style>\n<table border=\"1\" class=\"dataframe\">\n  <thead>\n    <tr style=\"text-align: right;\">\n      <th></th>\n      <th>id</th>\n      <th>date</th>\n      <th>price</th>\n      <th>bedrooms</th>\n      <th>bathrooms</th>\n      <th>sqft_living</th>\n      <th>sqft_lot</th>\n      <th>floors</th>\n      <th>waterfront</th>\n      <th>view</th>\n      <th>...</th>\n      <th>grade</th>\n      <th>sqft_above</th>\n      <th>sqft_basement</th>\n      <th>yr_built</th>\n      <th>yr_renovated</th>\n      <th>zipcode</th>\n      <th>lat</th>\n      <th>long</th>\n      <th>sqft_living15</th>\n      <th>sqft_lot15</th>\n    </tr>\n  </thead>\n  <tbody>\n    <tr>\n      <th>0</th>\n      <td>7129300520</td>\n      <td>20141013T000000</td>\n      <td>221900.0</td>\n      <td>3</td>\n      <td>1.00</td>\n      <td>1180</td>\n      <td>5650</td>\n      <td>1.0</td>\n      <td>0</td>\n      <td>0</td>\n      <td>...</td>\n      <td>7</td>\n      <td>1180</td>\n      <td>0</td>\n      <td>1955</td>\n      <td>0</td>\n      <td>98178</td>\n      <td>47.5112</td>\n      <td>-122.257</td>\n      <td>1340</td>\n      <td>5650</td>\n    </tr>\n    <tr>\n      <th>1</th>\n      <td>6414100192</td>\n      <td>20141209T000000</td>\n      <td>538000.0</td>\n      <td>3</td>\n      <td>2.25</td>\n      <td>2570</td>\n      <td>7242</td>\n      <td>2.0</td>\n      <td>0</td>\n      <td>0</td>\n      <td>...</td>\n      <td>7</td>\n      <td>2170</td>\n      <td>400</td>\n      <td>1951</td>\n      <td>1991</td>\n      <td>98125</td>\n      <td>47.7210</td>\n      <td>-122.319</td>\n      <td>1690</td>\n      <td>7639</td>\n    </tr>\n    <tr>\n      <th>2</th>\n      <td>5631500400</td>\n      <td>20150225T000000</td>\n      <td>180000.0</td>\n      <td>2</td>\n      <td>1.00</td>\n      <td>770</td>\n      <td>10000</td>\n      <td>1.0</td>\n      <td>0</td>\n      <td>0</td>\n      <td>...</td>\n      <td>6</td>\n      <td>770</td>\n      <td>0</td>\n      <td>1933</td>\n      <td>0</td>\n      <td>98028</td>\n      <td>47.7379</td>\n      <td>-122.233</td>\n      <td>2720</td>\n      <td>8062</td>\n    </tr>\n    <tr>\n      <th>3</th>\n      <td>2487200875</td>\n      <td>20141209T000000</td>\n      <td>604000.0</td>\n      <td>4</td>\n      <td>3.00</td>\n      <td>1960</td>\n      <td>5000</td>\n      <td>1.0</td>\n      <td>0</td>\n      <td>0</td>\n      <td>...</td>\n      <td>7</td>\n      <td>1050</td>\n      <td>910</td>\n      <td>1965</td>\n      <td>0</td>\n      <td>98136</td>\n      <td>47.5208</td>\n      <td>-122.393</td>\n      <td>1360</td>\n      <td>5000</td>\n    </tr>\n    <tr>\n      <th>4</th>\n      <td>1954400510</td>\n      <td>20150218T000000</td>\n      <td>510000.0</td>\n      <td>3</td>\n      <td>2.00</td>\n      <td>1680</td>\n      <td>8080</td>\n      <td>1.0</td>\n      <td>0</td>\n      <td>0</td>\n      <td>...</td>\n      <td>8</td>\n      <td>1680</td>\n      <td>0</td>\n      <td>1987</td>\n      <td>0</td>\n      <td>98074</td>\n      <td>47.6168</td>\n      <td>-122.045</td>\n      <td>1800</td>\n      <td>7503</td>\n    </tr>\n    <tr>\n      <th>...</th>\n      <td>...</td>\n      <td>...</td>\n      <td>...</td>\n      <td>...</td>\n      <td>...</td>\n      <td>...</td>\n      <td>...</td>\n      <td>...</td>\n      <td>...</td>\n      <td>...</td>\n      <td>...</td>\n      <td>...</td>\n      <td>...</td>\n      <td>...</td>\n      <td>...</td>\n      <td>...</td>\n      <td>...</td>\n      <td>...</td>\n      <td>...</td>\n      <td>...</td>\n      <td>...</td>\n    </tr>\n    <tr>\n      <th>21608</th>\n      <td>263000018</td>\n      <td>20140521T000000</td>\n      <td>360000.0</td>\n      <td>3</td>\n      <td>2.50</td>\n      <td>1530</td>\n      <td>1131</td>\n      <td>3.0</td>\n      <td>0</td>\n      <td>0</td>\n      <td>...</td>\n      <td>8</td>\n      <td>1530</td>\n      <td>0</td>\n      <td>2009</td>\n      <td>0</td>\n      <td>98103</td>\n      <td>47.6993</td>\n      <td>-122.346</td>\n      <td>1530</td>\n      <td>1509</td>\n    </tr>\n    <tr>\n      <th>21609</th>\n      <td>6600060120</td>\n      <td>20150223T000000</td>\n      <td>400000.0</td>\n      <td>4</td>\n      <td>2.50</td>\n      <td>2310</td>\n      <td>5813</td>\n      <td>2.0</td>\n      <td>0</td>\n      <td>0</td>\n      <td>...</td>\n      <td>8</td>\n      <td>2310</td>\n      <td>0</td>\n      <td>2014</td>\n      <td>0</td>\n      <td>98146</td>\n      <td>47.5107</td>\n      <td>-122.362</td>\n      <td>1830</td>\n      <td>7200</td>\n    </tr>\n    <tr>\n      <th>21610</th>\n      <td>1523300141</td>\n      <td>20140623T000000</td>\n      <td>402101.0</td>\n      <td>2</td>\n      <td>0.75</td>\n      <td>1020</td>\n      <td>1350</td>\n      <td>2.0</td>\n      <td>0</td>\n      <td>0</td>\n      <td>...</td>\n      <td>7</td>\n      <td>1020</td>\n      <td>0</td>\n      <td>2009</td>\n      <td>0</td>\n      <td>98144</td>\n      <td>47.5944</td>\n      <td>-122.299</td>\n      <td>1020</td>\n      <td>2007</td>\n    </tr>\n    <tr>\n      <th>21611</th>\n      <td>291310100</td>\n      <td>20150116T000000</td>\n      <td>400000.0</td>\n      <td>3</td>\n      <td>2.50</td>\n      <td>1600</td>\n      <td>2388</td>\n      <td>2.0</td>\n      <td>0</td>\n      <td>0</td>\n      <td>...</td>\n      <td>8</td>\n      <td>1600</td>\n      <td>0</td>\n      <td>2004</td>\n      <td>0</td>\n      <td>98027</td>\n      <td>47.5345</td>\n      <td>-122.069</td>\n      <td>1410</td>\n      <td>1287</td>\n    </tr>\n    <tr>\n      <th>21612</th>\n      <td>1523300157</td>\n      <td>20141015T000000</td>\n      <td>325000.0</td>\n      <td>2</td>\n      <td>0.75</td>\n      <td>1020</td>\n      <td>1076</td>\n      <td>2.0</td>\n      <td>0</td>\n      <td>0</td>\n      <td>...</td>\n      <td>7</td>\n      <td>1020</td>\n      <td>0</td>\n      <td>2008</td>\n      <td>0</td>\n      <td>98144</td>\n      <td>47.5941</td>\n      <td>-122.299</td>\n      <td>1020</td>\n      <td>1357</td>\n    </tr>\n  </tbody>\n</table>\n<p>21613 rows × 21 columns</p>\n</div>",
            "text/plain": "               id             date     price  bedrooms  bathrooms  \\\n0      7129300520  20141013T000000  221900.0         3       1.00   \n1      6414100192  20141209T000000  538000.0         3       2.25   \n2      5631500400  20150225T000000  180000.0         2       1.00   \n3      2487200875  20141209T000000  604000.0         4       3.00   \n4      1954400510  20150218T000000  510000.0         3       2.00   \n...           ...              ...       ...       ...        ...   \n21608   263000018  20140521T000000  360000.0         3       2.50   \n21609  6600060120  20150223T000000  400000.0         4       2.50   \n21610  1523300141  20140623T000000  402101.0         2       0.75   \n21611   291310100  20150116T000000  400000.0         3       2.50   \n21612  1523300157  20141015T000000  325000.0         2       0.75   \n\n       sqft_living  sqft_lot  floors  waterfront  view  ...  grade  \\\n0             1180      5650     1.0           0     0  ...      7   \n1             2570      7242     2.0           0     0  ...      7   \n2              770     10000     1.0           0     0  ...      6   \n3             1960      5000     1.0           0     0  ...      7   \n4             1680      8080     1.0           0     0  ...      8   \n...            ...       ...     ...         ...   ...  ...    ...   \n21608         1530      1131     3.0           0     0  ...      8   \n21609         2310      5813     2.0           0     0  ...      8   \n21610         1020      1350     2.0           0     0  ...      7   \n21611         1600      2388     2.0           0     0  ...      8   \n21612         1020      1076     2.0           0     0  ...      7   \n\n       sqft_above  sqft_basement  yr_built  yr_renovated  zipcode      lat  \\\n0            1180              0      1955             0    98178  47.5112   \n1            2170            400      1951          1991    98125  47.7210   \n2             770              0      1933             0    98028  47.7379   \n3            1050            910      1965             0    98136  47.5208   \n4            1680              0      1987             0    98074  47.6168   \n...           ...            ...       ...           ...      ...      ...   \n21608        1530              0      2009             0    98103  47.6993   \n21609        2310              0      2014             0    98146  47.5107   \n21610        1020              0      2009             0    98144  47.5944   \n21611        1600              0      2004             0    98027  47.5345   \n21612        1020              0      2008             0    98144  47.5941   \n\n          long  sqft_living15  sqft_lot15  \n0     -122.257           1340        5650  \n1     -122.319           1690        7639  \n2     -122.233           2720        8062  \n3     -122.393           1360        5000  \n4     -122.045           1800        7503  \n...        ...            ...         ...  \n21608 -122.346           1530        1509  \n21609 -122.362           1830        7200  \n21610 -122.299           1020        2007  \n21611 -122.069           1410        1287  \n21612 -122.299           1020        1357  \n\n[21613 rows x 21 columns]"
          },
          "metadata": {}
        }
      ],
      "execution_count": 5,
      "metadata": {
        "gather": {
          "logged": 1637069056000
        }
      }
    },
    {
      "cell_type": "code",
      "source": [
        "#import library matplotlib dan linaear regresion\n",
        "import matplotlib.pyplot as plt\n",
        "from sklearn.linear_model import LinearRegression\n",
        "from sklearn.model_selection import train_test_split\n",
        "\n",
        "df = pd.read_csv('MariBisnis.csv', usecols=['bedrooms', 'bathrooms', 'sqft_living', 'grade', 'price', 'yr_built'])\n",
        "df.head()"
      ],
      "outputs": [
        {
          "output_type": "execute_result",
          "execution_count": 6,
          "data": {
            "text/html": "<div>\n<style scoped>\n    .dataframe tbody tr th:only-of-type {\n        vertical-align: middle;\n    }\n\n    .dataframe tbody tr th {\n        vertical-align: top;\n    }\n\n    .dataframe thead th {\n        text-align: right;\n    }\n</style>\n<table border=\"1\" class=\"dataframe\">\n  <thead>\n    <tr style=\"text-align: right;\">\n      <th></th>\n      <th>price</th>\n      <th>bedrooms</th>\n      <th>bathrooms</th>\n      <th>sqft_living</th>\n      <th>grade</th>\n      <th>yr_built</th>\n    </tr>\n  </thead>\n  <tbody>\n    <tr>\n      <th>0</th>\n      <td>221900.0</td>\n      <td>3</td>\n      <td>1.00</td>\n      <td>1180</td>\n      <td>7</td>\n      <td>1955</td>\n    </tr>\n    <tr>\n      <th>1</th>\n      <td>538000.0</td>\n      <td>3</td>\n      <td>2.25</td>\n      <td>2570</td>\n      <td>7</td>\n      <td>1951</td>\n    </tr>\n    <tr>\n      <th>2</th>\n      <td>180000.0</td>\n      <td>2</td>\n      <td>1.00</td>\n      <td>770</td>\n      <td>6</td>\n      <td>1933</td>\n    </tr>\n    <tr>\n      <th>3</th>\n      <td>604000.0</td>\n      <td>4</td>\n      <td>3.00</td>\n      <td>1960</td>\n      <td>7</td>\n      <td>1965</td>\n    </tr>\n    <tr>\n      <th>4</th>\n      <td>510000.0</td>\n      <td>3</td>\n      <td>2.00</td>\n      <td>1680</td>\n      <td>8</td>\n      <td>1987</td>\n    </tr>\n  </tbody>\n</table>\n</div>",
            "text/plain": "      price  bedrooms  bathrooms  sqft_living  grade  yr_built\n0  221900.0         3       1.00         1180      7      1955\n1  538000.0         3       2.25         2570      7      1951\n2  180000.0         2       1.00          770      6      1933\n3  604000.0         4       3.00         1960      7      1965\n4  510000.0         3       2.00         1680      8      1987"
          },
          "metadata": {}
        }
      ],
      "execution_count": 6,
      "metadata": {
        "gather": {
          "logged": 1637069056944
        }
      }
    },
    {
      "cell_type": "code",
      "source": [
        "#menampilkan data columns saat ini\n",
        "df.info()"
      ],
      "outputs": [
        {
          "output_type": "stream",
          "name": "stdout",
          "text": "<class 'pandas.core.frame.DataFrame'>\nRangeIndex: 21613 entries, 0 to 21612\nData columns (total 6 columns):\n #   Column       Non-Null Count  Dtype  \n---  ------       --------------  -----  \n 0   price        21613 non-null  float64\n 1   bedrooms     21613 non-null  int64  \n 2   bathrooms    21613 non-null  float64\n 3   sqft_living  21613 non-null  int64  \n 4   grade        21613 non-null  int64  \n 5   yr_built     21613 non-null  int64  \ndtypes: float64(2), int64(4)\nmemory usage: 1013.2 KB\n"
        }
      ],
      "execution_count": 7,
      "metadata": {
        "gather": {
          "logged": 1637069057041
        }
      }
    },
    {
      "cell_type": "code",
      "source": [
        "#menampilkan stastik deskripsi dari data, mulai dari mean, kuartil, dll.\n",
        "df.describe()"
      ],
      "outputs": [
        {
          "output_type": "execute_result",
          "execution_count": 8,
          "data": {
            "text/html": "<div>\n<style scoped>\n    .dataframe tbody tr th:only-of-type {\n        vertical-align: middle;\n    }\n\n    .dataframe tbody tr th {\n        vertical-align: top;\n    }\n\n    .dataframe thead th {\n        text-align: right;\n    }\n</style>\n<table border=\"1\" class=\"dataframe\">\n  <thead>\n    <tr style=\"text-align: right;\">\n      <th></th>\n      <th>price</th>\n      <th>bedrooms</th>\n      <th>bathrooms</th>\n      <th>sqft_living</th>\n      <th>grade</th>\n      <th>yr_built</th>\n    </tr>\n  </thead>\n  <tbody>\n    <tr>\n      <th>count</th>\n      <td>2.161300e+04</td>\n      <td>21613.000000</td>\n      <td>21613.000000</td>\n      <td>21613.000000</td>\n      <td>21613.000000</td>\n      <td>21613.000000</td>\n    </tr>\n    <tr>\n      <th>mean</th>\n      <td>5.400881e+05</td>\n      <td>3.370842</td>\n      <td>2.114757</td>\n      <td>2079.899736</td>\n      <td>7.656873</td>\n      <td>1971.005136</td>\n    </tr>\n    <tr>\n      <th>std</th>\n      <td>3.671272e+05</td>\n      <td>0.930062</td>\n      <td>0.770163</td>\n      <td>918.440897</td>\n      <td>1.175459</td>\n      <td>29.373411</td>\n    </tr>\n    <tr>\n      <th>min</th>\n      <td>7.500000e+04</td>\n      <td>0.000000</td>\n      <td>0.000000</td>\n      <td>290.000000</td>\n      <td>1.000000</td>\n      <td>1900.000000</td>\n    </tr>\n    <tr>\n      <th>25%</th>\n      <td>3.219500e+05</td>\n      <td>3.000000</td>\n      <td>1.750000</td>\n      <td>1427.000000</td>\n      <td>7.000000</td>\n      <td>1951.000000</td>\n    </tr>\n    <tr>\n      <th>50%</th>\n      <td>4.500000e+05</td>\n      <td>3.000000</td>\n      <td>2.250000</td>\n      <td>1910.000000</td>\n      <td>7.000000</td>\n      <td>1975.000000</td>\n    </tr>\n    <tr>\n      <th>75%</th>\n      <td>6.450000e+05</td>\n      <td>4.000000</td>\n      <td>2.500000</td>\n      <td>2550.000000</td>\n      <td>8.000000</td>\n      <td>1997.000000</td>\n    </tr>\n    <tr>\n      <th>max</th>\n      <td>7.700000e+06</td>\n      <td>33.000000</td>\n      <td>8.000000</td>\n      <td>13540.000000</td>\n      <td>13.000000</td>\n      <td>2015.000000</td>\n    </tr>\n  </tbody>\n</table>\n</div>",
            "text/plain": "              price      bedrooms     bathrooms   sqft_living         grade  \\\ncount  2.161300e+04  21613.000000  21613.000000  21613.000000  21613.000000   \nmean   5.400881e+05      3.370842      2.114757   2079.899736      7.656873   \nstd    3.671272e+05      0.930062      0.770163    918.440897      1.175459   \nmin    7.500000e+04      0.000000      0.000000    290.000000      1.000000   \n25%    3.219500e+05      3.000000      1.750000   1427.000000      7.000000   \n50%    4.500000e+05      3.000000      2.250000   1910.000000      7.000000   \n75%    6.450000e+05      4.000000      2.500000   2550.000000      8.000000   \nmax    7.700000e+06     33.000000      8.000000  13540.000000     13.000000   \n\n           yr_built  \ncount  21613.000000  \nmean    1971.005136  \nstd       29.373411  \nmin     1900.000000  \n25%     1951.000000  \n50%     1975.000000  \n75%     1997.000000  \nmax     2015.000000  "
          },
          "metadata": {}
        }
      ],
      "execution_count": 8,
      "metadata": {
        "gather": {
          "logged": 1637069057137
        }
      }
    },
    {
      "cell_type": "code",
      "source": [
        "#mengubah tipe data bathroom menjadi int, karena terdapat value yang tidak bulat\n",
        "df['bathrooms'] = df['bathrooms'].astype('int')\n",
        "#mengubah nilai max bedroom yang semula 33 menjadi 3.\n",
        "df['bedrooms'] = df['bedrooms'].replace(33,3)"
      ],
      "outputs": [],
      "execution_count": 9,
      "metadata": {
        "gather": {
          "logged": 1637069057227
        }
      }
    },
    {
      "cell_type": "code",
      "source": [
        "#memastikan apakah ada nilai yang kosong \n",
        "df.isnull().sum()"
      ],
      "outputs": [
        {
          "output_type": "execute_result",
          "execution_count": 10,
          "data": {
            "text/plain": "price          0\nbedrooms       0\nbathrooms      0\nsqft_living    0\ngrade          0\nyr_built       0\ndtype: int64"
          },
          "metadata": {}
        }
      ],
      "execution_count": 10,
      "metadata": {
        "gather": {
          "logged": 1637069057375
        }
      }
    },
    {
      "cell_type": "code",
      "source": [
        "#menampilkan visualisasi data untuk bedroom\n",
        "f = plt.figure(figsize=(12,4))\n",
        "\n",
        "f.add_subplot(1,2,1)\n",
        "sns.countplot(df['bedrooms'])\n",
        "\n",
        "f.add_subplot(1,2,2)\n",
        "plt.boxplot(df['bedrooms'])\n",
        "\n",
        "plt.show()"
      ],
      "outputs": [
        {
          "output_type": "stream",
          "name": "stderr",
          "text": "/anaconda/envs/azureml_py38/lib/python3.8/site-packages/seaborn/_decorators.py:36: FutureWarning: Pass the following variable as a keyword arg: x. From version 0.12, the only valid positional argument will be `data`, and passing other arguments without an explicit keyword will result in an error or misinterpretation.\n  warnings.warn(\n"
        },
        {
          "output_type": "display_data",
          "data": {
            "image/png": "[encoded data removed]",
            "text/plain": "<Figure size 864x288 with 2 Axes>"
          },
          "metadata": {
            "needs_background": "light"
          }
        }
      ],
      "execution_count": 11,
      "metadata": {
        "gather": {
          "logged": 1637069057482
        }
      }
    },
    {
      "cell_type": "code",
      "source": [
        "#mencari nilai korelasi dan independent variabel\n",
        "df.corr().style.background_gradient().set_precision(2)"
      ],
      "outputs": [
        {
          "output_type": "stream",
          "name": "stderr",
          "text": "/tmp/ipykernel_5528/4240282873.py:2: FutureWarning: this method is deprecated in favour of `Styler.format(precision=..)`\n  df.corr().style.background_gradient().set_precision(2)\n"
        },
        {
          "output_type": "execute_result",
          "execution_count": 12,
          "data": {
            "text/html": "<style type=\"text/css\">\n#T_601d1_row0_col0, #T_601d1_row1_col1, #T_601d1_row2_col2, #T_601d1_row3_col3, #T_601d1_row4_col4, #T_601d1_row5_col5 {\n  background-color: #023858;\n  color: #f1f1f1;\n}\n#T_601d1_row0_col1 {\n  background-color: #dfddec;\n  color: #000000;\n}\n#T_601d1_row0_col2 {\n  background-color: #eae6f1;\n  color: #000000;\n}\n#T_601d1_row0_col3 {\n  background-color: #549cc7;\n  color: #f1f1f1;\n}\n#T_601d1_row0_col4 {\n  background-color: #7eadd1;\n  color: #f1f1f1;\n}\n#T_601d1_row0_col5, #T_601d1_row1_col4, #T_601d1_row5_col0, #T_601d1_row5_col1, #T_601d1_row5_col2, #T_601d1_row5_col3 {\n  background-color: #fff7fb;\n  color: #000000;\n}\n#T_601d1_row1_col0 {\n  background-color: #c8cde4;\n  color: #000000;\n}\n#T_601d1_row1_col2 {\n  background-color: #f2ecf5;\n  color: #000000;\n}\n#T_601d1_row1_col3, #T_601d1_row2_col5 {\n  background-color: #9cb9d9;\n  color: #000000;\n}\n#T_601d1_row1_col5 {\n  background-color: #eee9f3;\n  color: #000000;\n}\n#T_601d1_row2_col0 {\n  background-color: #7bacd1;\n  color: #f1f1f1;\n}\n#T_601d1_row2_col1, #T_601d1_row2_col4 {\n  background-color: #a4bcda;\n  color: #000000;\n}\n#T_601d1_row2_col3 {\n  background-color: #589ec8;\n  color: #f1f1f1;\n}\n#T_601d1_row3_col0 {\n  background-color: #1e80b8;\n  color: #f1f1f1;\n}\n#T_601d1_row3_col1 {\n  background-color: #6da6cd;\n  color: #f1f1f1;\n}\n#T_601d1_row3_col2 {\n  background-color: #81aed2;\n  color: #f1f1f1;\n}\n#T_601d1_row3_col4 {\n  background-color: #358fc0;\n  color: #f1f1f1;\n}\n#T_601d1_row3_col5 {\n  background-color: #c6cce3;\n  color: #000000;\n}\n#T_601d1_row4_col0, #T_601d1_row4_col3 {\n  background-color: #2c89bd;\n  color: #f1f1f1;\n}\n#T_601d1_row4_col1 {\n  background-color: #d1d2e6;\n  color: #000000;\n}\n#T_601d1_row4_col2 {\n  background-color: #bdc8e1;\n  color: #000000;\n}\n#T_601d1_row4_col5 {\n  background-color: #96b6d7;\n  color: #000000;\n}\n#T_601d1_row5_col4 {\n  background-color: #ece7f2;\n  color: #000000;\n}\n</style>\n<table id=\"T_601d1_\">\n  <thead>\n    <tr>\n      <th class=\"blank level0\" >&nbsp;</th>\n      <th class=\"col_heading level0 col0\" >price</th>\n      <th class=\"col_heading level0 col1\" >bedrooms</th>\n      <th class=\"col_heading level0 col2\" >bathrooms</th>\n      <th class=\"col_heading level0 col3\" >sqft_living</th>\n      <th class=\"col_heading level0 col4\" >grade</th>\n      <th class=\"col_heading level0 col5\" >yr_built</th>\n    </tr>\n  </thead>\n  <tbody>\n    <tr>\n      <th id=\"T_601d1_level0_row0\" class=\"row_heading level0 row0\" >price</th>\n      <td id=\"T_601d1_row0_col0\" class=\"data row0 col0\" >1.00</td>\n      <td id=\"T_601d1_row0_col1\" class=\"data row0 col1\" >0.32</td>\n      <td id=\"T_601d1_row0_col2\" class=\"data row0 col2\" >0.51</td>\n      <td id=\"T_601d1_row0_col3\" class=\"data row0 col3\" >0.70</td>\n      <td id=\"T_601d1_row0_col4\" class=\"data row0 col4\" >0.67</td>\n      <td id=\"T_601d1_row0_col5\" class=\"data row0 col5\" >0.05</td>\n    </tr>\n    <tr>\n      <th id=\"T_601d1_level0_row1\" class=\"row_heading level0 row1\" >bedrooms</th>\n      <td id=\"T_601d1_row1_col0\" class=\"data row1 col0\" >0.32</td>\n      <td id=\"T_601d1_row1_col1\" class=\"data row1 col1\" >1.00</td>\n      <td id=\"T_601d1_row1_col2\" class=\"data row1 col2\" >0.48</td>\n      <td id=\"T_601d1_row1_col3\" class=\"data row1 col3\" >0.59</td>\n      <td id=\"T_601d1_row1_col4\" class=\"data row1 col4\" >0.37</td>\n      <td id=\"T_601d1_row1_col5\" class=\"data row1 col5\" >0.16</td>\n    </tr>\n    <tr>\n      <th id=\"T_601d1_level0_row2\" class=\"row_heading level0 row2\" >bathrooms</th>\n      <td id=\"T_601d1_row2_col0\" class=\"data row2 col0\" >0.51</td>\n      <td id=\"T_601d1_row2_col1\" class=\"data row2 col1\" >0.48</td>\n      <td id=\"T_601d1_row2_col2\" class=\"data row2 col2\" >1.00</td>\n      <td id=\"T_601d1_row2_col3\" class=\"data row2 col3\" >0.70</td>\n      <td id=\"T_601d1_row2_col4\" class=\"data row2 col4\" >0.61</td>\n      <td id=\"T_601d1_row2_col5\" class=\"data row2 col5\" >0.43</td>\n    </tr>\n    <tr>\n      <th id=\"T_601d1_level0_row3\" class=\"row_heading level0 row3\" >sqft_living</th>\n      <td id=\"T_601d1_row3_col0\" class=\"data row3 col0\" >0.70</td>\n      <td id=\"T_601d1_row3_col1\" class=\"data row3 col1\" >0.59</td>\n      <td id=\"T_601d1_row3_col2\" class=\"data row3 col2\" >0.70</td>\n      <td id=\"T_601d1_row3_col3\" class=\"data row3 col3\" >1.00</td>\n      <td id=\"T_601d1_row3_col4\" class=\"data row3 col4\" >0.76</td>\n      <td id=\"T_601d1_row3_col5\" class=\"data row3 col5\" >0.32</td>\n    </tr>\n    <tr>\n      <th id=\"T_601d1_level0_row4\" class=\"row_heading level0 row4\" >grade</th>\n      <td id=\"T_601d1_row4_col0\" class=\"data row4 col0\" >0.67</td>\n      <td id=\"T_601d1_row4_col1\" class=\"data row4 col1\" >0.37</td>\n      <td id=\"T_601d1_row4_col2\" class=\"data row4 col2\" >0.61</td>\n      <td id=\"T_601d1_row4_col3\" class=\"data row4 col3\" >0.76</td>\n      <td id=\"T_601d1_row4_col4\" class=\"data row4 col4\" >1.00</td>\n      <td id=\"T_601d1_row4_col5\" class=\"data row4 col5\" >0.45</td>\n    </tr>\n    <tr>\n      <th id=\"T_601d1_level0_row5\" class=\"row_heading level0 row5\" >yr_built</th>\n      <td id=\"T_601d1_row5_col0\" class=\"data row5 col0\" >0.05</td>\n      <td id=\"T_601d1_row5_col1\" class=\"data row5 col1\" >0.16</td>\n      <td id=\"T_601d1_row5_col2\" class=\"data row5 col2\" >0.43</td>\n      <td id=\"T_601d1_row5_col3\" class=\"data row5 col3\" >0.32</td>\n      <td id=\"T_601d1_row5_col4\" class=\"data row5 col4\" >0.45</td>\n      <td id=\"T_601d1_row5_col5\" class=\"data row5 col5\" >1.00</td>\n    </tr>\n  </tbody>\n</table>\n",
            "text/plain": "<pandas.io.formats.style.Styler at 0x7fbcfb149790>"
          },
          "metadata": {}
        }
      ],
      "execution_count": 12,
      "metadata": {
        "gather": {
          "logged": 1637069057582
        }
      }
    },
    {
      "cell_type": "code",
      "source": [
        "import joblib\n",
        "# membuat variabel x dan y\n",
        "x = df.drop(columns='price')\n",
        "y = df['price']\n",
        "\n",
        "#melakukan spliting data untuk membagi antara training dan testing splliting dengan rasio 80:20\n",
        "x_train, x_test, y_train, y_test = train_test_split(x,y, test_size=0.2, random_state=4)\n",
        "\n",
        "#membuat object baru untuk linear regresi\n",
        "lr = LinearRegression()\n",
        "\n",
        "#training model\n",
        "mymodel = lr.fit(x_train,y_train)\n",
        "\n",
        "joblib.dump(mymodel, \"mymodelsimple.pkl\")\n",
        "#mencari nilai koef dan intercept\n",
        "pd.DataFrame({'Features':x.columns,'Coef Value':lr.coef_})\n",
        "# print(lr.intercept_)"
      ],
      "outputs": [
        {
          "output_type": "execute_result",
          "execution_count": 13,
          "data": {
            "text/html": "<div>\n<style scoped>\n    .dataframe tbody tr th:only-of-type {\n        vertical-align: middle;\n    }\n\n    .dataframe tbody tr th {\n        vertical-align: top;\n    }\n\n    .dataframe thead th {\n        text-align: right;\n    }\n</style>\n<table border=\"1\" class=\"dataframe\">\n  <thead>\n    <tr style=\"text-align: right;\">\n      <th></th>\n      <th>Features</th>\n      <th>Coef Value</th>\n    </tr>\n  </thead>\n  <tbody>\n    <tr>\n      <th>0</th>\n      <td>bedrooms</td>\n      <td>-53061.754643</td>\n    </tr>\n    <tr>\n      <th>1</th>\n      <td>bathrooms</td>\n      <td>64658.557906</td>\n    </tr>\n    <tr>\n      <th>2</th>\n      <td>sqft_living</td>\n      <td>188.909263</td>\n    </tr>\n    <tr>\n      <th>3</th>\n      <td>grade</td>\n      <td>131290.895368</td>\n    </tr>\n    <tr>\n      <th>4</th>\n      <td>yr_built</td>\n      <td>-3969.558315</td>\n    </tr>\n  </tbody>\n</table>\n</div>",
            "text/plain": "      Features     Coef Value\n0     bedrooms  -53061.754643\n1    bathrooms   64658.557906\n2  sqft_living     188.909263\n3        grade  131290.895368\n4     yr_built   -3969.558315"
          },
          "metadata": {}
        }
      ],
      "execution_count": 13,
      "metadata": {
        "gather": {
          "logged": 1637069058215
        }
      }
    },
    {
      "cell_type": "code",
      "source": [
        "#mencari skor akurasi\n",
        "lr.score(x_test, y_test)"
      ],
      "outputs": [
        {
          "output_type": "execute_result",
          "execution_count": 14,
          "data": {
            "text/plain": "0.61251132869411"
          },
          "metadata": {}
        }
      ],
      "execution_count": 14,
      "metadata": {
        "gather": {
          "logged": 1637069058313
        }
      }
    },
    {
      "cell_type": "code",
      "source": [
        "#membuat fungsi untuk mengkonversi mata uang usd ke idr\n",
        "def idrCurrency(amount):\n",
        "    thousands_separator = \".\"\n",
        "    fractional_separator = \",\"\n",
        "    currency = \"Rp{:,.2f}\".format(amount)\n",
        "\n",
        "    if thousands_separator == \".\":\n",
        "        main_currency, fractional_currency = currency.split(\".\")[0], currency.split(\".\")[1]\n",
        "        new_main_currency = main_currency.replace(\",\", \".\")\n",
        "        currency = new_main_currency + fractional_separator + fractional_currency\n",
        "\n",
        "    return currency"
      ],
      "outputs": [],
      "execution_count": 15,
      "metadata": {
        "gather": {
          "logged": 1637069058444
        }
      }
    },
    {
      "cell_type": "code",
      "source": [
        "#membuat variabel array rumah dan harga dengan numpy untuk digunakan pada dataframe\n",
        "rumah = np.array([\"Rumah Type S\", \"Rumah Type A\", \"Rumah Type B\", \"Rumah Type C\", \"Rumah Type D\"])\n",
        "harga = np.array([])\n",
        "\n",
        "#menambahkan data pada variabel harga array\n",
        "#melakukan prediksi menggunakan model yang sudah dibuat\n",
        "final_price = np.append(harga,[idrCurrency(int(lr.predict([[6,4,1800,9,2005]])) * 14119),\n",
        "idrCurrency(int(lr.predict([[5,3,1400,7,2005]]))* 14119),\n",
        "idrCurrency(int(lr.predict([[4,2,1200,7,2005]]))* 14119),\n",
        "idrCurrency(int(lr.predict([[3,2,1000,7,2008]]))* 14119),\n",
        "idrCurrency(int(lr.predict([[2,1,700,7,2005]]))* 14119)])\n",
        "\n",
        "# menampilkan data dalam bentuk dataframe\n",
        "pd.DataFrame({'Type Rumah':rumah,'Prediksi Harga':final_price})"
      ],
      "outputs": [
        {
          "output_type": "execute_result",
          "execution_count": 16,
          "data": {
            "text/html": "<div>\n<style scoped>\n    .dataframe tbody tr th:only-of-type {\n        vertical-align: middle;\n    }\n\n    .dataframe tbody tr th {\n        vertical-align: top;\n    }\n\n    .dataframe thead th {\n        text-align: right;\n    }\n</style>\n<table border=\"1\" class=\"dataframe\">\n  <thead>\n    <tr style=\"text-align: right;\">\n      <th></th>\n      <th>Type Rumah</th>\n      <th>Prediksi Harga</th>\n    </tr>\n  </thead>\n  <tbody>\n    <tr>\n      <th>0</th>\n      <td>Rumah Type S</td>\n      <td>Rp7.546.916.118,00</td>\n    </tr>\n    <tr>\n      <th>1</th>\n      <td>Rumah Type A</td>\n      <td>Rp2.608.894.701,00</td>\n    </tr>\n    <tr>\n      <th>2</th>\n      <td>Rumah Type B</td>\n      <td>Rp1.911.726.719,00</td>\n    </tr>\n    <tr>\n      <th>3</th>\n      <td>Rumah Type C</td>\n      <td>Rp1.959.321.868,00</td>\n    </tr>\n    <tr>\n      <th>4</th>\n      <td>Rumah Type D</td>\n      <td>Rp1.163.560.909,00</td>\n    </tr>\n  </tbody>\n</table>\n</div>",
            "text/plain": "     Type Rumah      Prediksi Harga\n0  Rumah Type S  Rp7.546.916.118,00\n1  Rumah Type A  Rp2.608.894.701,00\n2  Rumah Type B  Rp1.911.726.719,00\n3  Rumah Type C  Rp1.959.321.868,00\n4  Rumah Type D  Rp1.163.560.909,00"
          },
          "metadata": {}
        }
      ],
      "execution_count": 16,
      "metadata": {
        "gather": {
          "logged": 1637069058551
        }
      }
    },
    {
      "cell_type": "code",
      "source": [
        "import azureml.core\n",
        "\n",
        "print(\"SDK version:\", azureml.core.VERSION)"
      ],
      "outputs": [
        {
          "output_type": "stream",
          "name": "stdout",
          "text": "SDK version: 1.34.0\n"
        }
      ],
      "execution_count": 17,
      "metadata": {
        "gather": {
          "logged": 1637069058642
        }
      }
    },
    {
      "cell_type": "code",
      "source": [
        "from azureml.core import Workspace\n",
        "\n",
        "ws = Workspace.from_config()\n",
        "print(ws.name, ws.resource_group, ws.location, ws.subscription_id, sep='\\n')"
      ],
      "outputs": [
        {
          "output_type": "stream",
          "name": "stdout",
          "text": "capstoneproject\nazurestudent\nsoutheastasia\nda9269e9-53df-4c9b-a08a-f389a53057c3\n"
        }
      ],
      "execution_count": 18,
      "metadata": {
        "gather": {
          "logged": 1637069058867
        }
      }
    },
    {
      "cell_type": "code",
      "source": [
        "import sklearn\n",
        "\n",
        "from azureml.core import Workspace\n",
        "from azureml.core import Model\n",
        "from azureml.core.resource_configuration import ResourceConfiguration\n",
        "\n",
        "ws = Workspace.from_config()\n",
        "\n",
        "model = Model.register(workspace=ws,\n",
        "                       model_name='mymodelsimple_house_price',                # Name of the registered model in your workspace.\n",
        "                       model_path='./mymodelsimple.pkl')  # Local file to upload and register as a model.\n",
        "                   \n",
        "\n",
        "print('Name:', model.name)\n",
        "print('Version:', model.version)"
      ],
      "outputs": [
        {
          "output_type": "stream",
          "name": "stdout",
          "text": "Registering model mymodelsimple_house_price\nName: mymodelsimple_house_price\nVersion: 1\n"
        }
      ],
      "execution_count": 21,
      "metadata": {}
    },
    {
      "cell_type": "code",
      "source": [
        "%%writefile price.py\n",
        "\n",
        "import json\n",
        "import pickle\n",
        "import numpy as np\n",
        "import pandas as pd\n",
        "import os\n",
        "import joblib\n",
        "from azureml.core.model import Model\n",
        "\n",
        "from inference_schema.schema_decorators import input_schema, output_schema\n",
        "from inference_schema.parameter_types.numpy_parameter_type import NumpyParameterType\n",
        "from inference_schema.parameter_types.pandas_parameter_type import PandasParameterType\n",
        "\n",
        "\n",
        "def init():\n",
        "    global model\n",
        "    # Replace filename if needed.\n",
        "    path = os.getenv('AZUREML_MODEL_DIR') \n",
        "    model_path = os.path.join(path, 'mymodelsimple.pkl')\n",
        "    # Deserialize the model file back into a sklearn model.\n",
        "    model = joblib.load(model_path)\n",
        "\n",
        "\n",
        "input_sample = pd.DataFrame(data=[{\n",
        "    \"bedrooms\": 3,\n",
        "    \"bathrooms\": 2,\n",
        "    \"sqft_living\": 1000,\n",
        "    \"grade\": 8,\n",
        "    \"yr_built\": 2004\n",
        "}])\n",
        "\n",
        "# This is an integer type sample. Use the data type that reflects the expected result.\n",
        "output_sample = np.array([0])\n",
        "\n",
        "# To indicate that we support a variable length of data input,\n",
        "# set enforce_shape=False\n",
        "@input_schema('data', PandasParameterType(input_sample))\n",
        "@output_schema(NumpyParameterType(output_sample))\n",
        "def run(data):\n",
        "    try:\n",
        "        print(\"input_data....\")\n",
        "        print(data.columns)\n",
        "        print(type(data))\n",
        "        result = model.predict(data)\n",
        "        print(\"result.....\")\n",
        "        print(result)\n",
        "    # You can return any data type, as long as it can be serialized by JSON.\n",
        "        return result.tolist()\n",
        "    except Exception as e:\n",
        "        error = str(e)\n",
        "        return error"
      ],
      "outputs": [
        {
          "output_type": "stream",
          "name": "stdout",
          "text": "Writing price.py\n"
        }
      ],
      "execution_count": 22,
      "metadata": {}
    },
    {
      "cell_type": "code",
      "source": [
        "from azureml.core.model import InferenceConfig\n",
        "from azureml.core import Environment\n",
        "from azureml.core.conda_dependencies import CondaDependencies\n",
        "\n",
        "environment = Environment('my-housepredict-environment')\n",
        "environment.python.conda_dependencies = CondaDependencies.create(pip_packages=[\n",
        "    'azureml-defaults',\n",
        "    'inference-schema[numpy-support]',\n",
        "    'joblib',\n",
        "    'numpy',\n",
        "    'pandas',\n",
        "    'scikit-learn=={}'.format(sklearn.__version__)\n",
        "])\n",
        "\n",
        "inference_config = InferenceConfig(entry_script='./price.py',environment=environment)"
      ],
      "outputs": [],
      "execution_count": 23,
      "metadata": {}
    },
    {
      "cell_type": "code",
      "source": [
        "service_name = 'my-houseprediction-model'\n",
        "\n",
        "service = Model.deploy(ws, service_name, [model], inference_config, overwrite=True)\n",
        "service.wait_for_deployment(show_output=True)"
      ],
      "outputs": [
        {
          "output_type": "stream",
          "name": "stdout",
          "text": "Tips: You can try get_logs(): https://aka.ms/debugimage#dockerlog or local deployment: https://aka.ms/debugimage#debug-locally to debug if deployment takes longer than 10 minutes.\nRunning\n2021-11-16 14:15:07+00:00 Creating Container Registry if not exists.\n2021-11-16 14:15:08+00:00 Registering the environment.\n2021-11-16 14:15:11+00:00 Building image..\n2021-11-16 14:20:27+00:00 Generating deployment configuration..\n2021-11-16 14:20:28+00:00 Submitting deployment to compute..\n2021-11-16 14:20:39+00:00 Checking the status of deployment my-houseprediction-model..\n2021-11-16 14:22:33+00:00 Checking the status of inference endpoint my-houseprediction-model.\nSucceeded\nACI service creation operation finished, operation \"Succeeded\"\n"
        }
      ],
      "execution_count": 24,
      "metadata": {}
    }
  ],
  "metadata": {
    "interpreter": {
      "hash": "6d65a8c07f5b6469e0fc613f182488c0dccce05038bbda39e5ac9075c0454d11"
    },
    "kernel_info": {
      "name": "python3"
    },
    "kernelspec": {
      "name": "python3",
      "language": "python",
      "display_name": "Python 3"
    },
    "language_info": {
      "name": "python",
      "version": "3.6.9",
      "mimetype": "text/x-python",
      "codemirror_mode": {
        "name": "ipython",
        "version": 3
      },
      "pygments_lexer": "ipython3",
      "nbconvert_exporter": "python",
      "file_extension": ".py"
    },
    "nteract": {
      "version": "nteract-front-end@1.0.0"
    },
    "microsoft": {
      "host": {
        "AzureML": {
          "notebookHasBeenCompleted": true
        }
      }
    }
  },
  "nbformat": 4,
  "nbformat_minor": 2
}